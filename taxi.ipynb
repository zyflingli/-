{
 "cells": [
  {
   "cell_type": "code",
   "execution_count": 1,
   "id": "2856b009",
   "metadata": {
    "scrolled": true
   },
   "outputs": [],
   "source": [
    "import tkinter"
   ]
  },
  {
   "cell_type": "code",
   "execution_count": 33,
   "id": "ae5c783e",
   "metadata": {},
   "outputs": [],
   "source": [
    "def get_content(cArray):\n",
    "    cArray.append(''.join(startPoint_entry.get()))\n",
    "    cArray.append(''.join(endPoint1_entry.get()))\n",
    "    cArray.append(''.join(endPoint2_entry.get()))"
   ]
  },
  {
   "cell_type": "code",
   "execution_count": 65,
   "id": "8a37aa54",
   "metadata": {},
   "outputs": [],
   "source": [
    "def get_cost(conArray):\n",
    "    #测试数据，实现打车软件接口后需调整\n",
    "    if (conArray[0]==\"大世界\") and (conArray[1]==\"同济大学\") and (conArray[2]==\"上海财经大学\"):\n",
    "        cosArray = [30,20,40,55]\n",
    "    return cosArray"
   ]
  },
  {
   "cell_type": "code",
   "execution_count": 71,
   "id": "1af1a010",
   "metadata": {},
   "outputs": [],
   "source": [
    "#费用分摊函数\n",
    "def cost_allocation(cost):\n",
    "    #如果设置途经点比各自打车便宜，则拼车\n",
    "    if (cost[2] < cost[0]+cost[1]) or (cost[3] < cost[0]+cost[1]):\n",
    "        #各自应分摊的金额\n",
    "        finalCost = min(cost[2], cost[3])\n",
    "        finalCost1 = finalCost*cost[0]/(cost[0]+cost[1])\n",
    "        finalCost2 = finalCost*cost[1]/(cost[0]+cost[1])\n",
    "        tkinter.Label(window, text = \"第一名乘客需要分摊{}元，第二名乘客需要分摊{}元\".format(finalCost1, finalCost2)).grid(row=5,column=1)\n",
    "        #各自节省的金额\n",
    "        saveCost1 = cost[0]-finalCost1\n",
    "        saveCost2 = cost[1]-finalCost2\n",
    "        tkinter.Label(window, text = \"第一名乘客节省了{}元，第二名乘客节省了{}元\".format(saveCost1, saveCost2)).grid(row=6,column=1)\n",
    "    #如果各自打车更便宜，则不需要拼车\n",
    "    else:\n",
    "        tkinter.Label(window, text = \"不需要拼车\").grid(row=5,column=0)"
   ]
  },
  {
   "cell_type": "code",
   "execution_count": 74,
   "id": "dbd93c40",
   "metadata": {},
   "outputs": [],
   "source": [
    "def act():\n",
    "    contentArray = []\n",
    "    costArray = []\n",
    "    get_content(contentArray)\n",
    "    costArray = get_cost(contentArray)\n",
    "    cost_allocation(costArray)"
   ]
  },
  {
   "cell_type": "code",
   "execution_count": 79,
   "id": "84822223",
   "metadata": {},
   "outputs": [],
   "source": [
    "window = tkinter.Tk()\n",
    "window.wm_title(\"出租车拼车费用分摊\")\n",
    "window.geometry('500x300')\n",
    "#界面：输入起点\n",
    "startPoint = tkinter.Label(window, text = \"输入起点：\")\n",
    "startPoint.grid(row=0, column=0)\n",
    "startPoint_entry = tkinter.Entry(window, bd=5)\n",
    "startPoint_entry.grid(row=0, column=2)\n",
    "#界面：输入终点1\n",
    "endPoint1 = tkinter.Label(window, text = \"输入终点1：\")\n",
    "endPoint1.grid(row=1, column=0)\n",
    "endPoint1_entry = tkinter.Entry(window, bd=5)\n",
    "endPoint1_entry.grid(row=1, column=2)\n",
    "#界面：输入终点2\n",
    "endPoint2 = tkinter.Label(window, text = \"输入终点2：\")\n",
    "endPoint2.grid(row=2, column=0)\n",
    "endPoint2_entry = tkinter.Entry(window, bd=5)\n",
    "endPoint2_entry.grid(row=2, column=2)\n",
    "#空行\n",
    "tkinter.Label(window, text = \"\").grid(row=3, column=1)\n",
    "#按钮\n",
    "tkinter.Button(window, text=\"计算分摊结果\", command=act).grid(row=4,column=1)"
   ]
  },
  {
   "cell_type": "code",
   "execution_count": 80,
   "id": "b32325cf",
   "metadata": {},
   "outputs": [],
   "source": [
    "window.mainloop()"
   ]
  },
  {
   "cell_type": "code",
   "execution_count": null,
   "id": "7e1bed53",
   "metadata": {},
   "outputs": [],
   "source": []
  }
 ],
 "metadata": {
  "kernelspec": {
   "display_name": "Python 3 (ipykernel)",
   "language": "python",
   "name": "python3"
  },
  "language_info": {
   "codemirror_mode": {
    "name": "ipython",
    "version": 3
   },
   "file_extension": ".py",
   "mimetype": "text/x-python",
   "name": "python",
   "nbconvert_exporter": "python",
   "pygments_lexer": "ipython3",
   "version": "3.9.7"
  }
 },
 "nbformat": 4,
 "nbformat_minor": 5
}
